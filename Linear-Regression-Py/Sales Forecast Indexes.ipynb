{
 "cells": [
  {
   "cell_type": "markdown",
   "metadata": {},
   "source": [
    "# Predicting Time Series Forecast - Fast Food Sales\n",
    "# Using Idexes"
   ]
  },
  {
   "cell_type": "code",
   "execution_count": 32,
   "metadata": {
    "collapsed": true
   },
   "outputs": [],
   "source": [
    "import pandas as pd\n",
    "import matplotlib.pyplot as pl\n",
    "%matplotlib inline"
   ]
  },
  {
   "cell_type": "markdown",
   "metadata": {},
   "source": [
    "### Importing data from Excel file. The data contains the monthly sale from 2014 to October 2017"
   ]
  },
  {
   "cell_type": "code",
   "execution_count": 33,
   "metadata": {
    "collapsed": false
   },
   "outputs": [
    {
     "data": {
      "text/html": [
       "<div>\n",
       "<table border=\"1\" class=\"dataframe\">\n",
       "  <thead>\n",
       "    <tr style=\"text-align: right;\">\n",
       "      <th></th>\n",
       "      <th>Data</th>\n",
       "      <th>Vendas</th>\n",
       "      <th>IPCA</th>\n",
       "      <th>SELIC</th>\n",
       "      <th>INPC</th>\n",
       "      <th>INCC</th>\n",
       "      <th>IGPM</th>\n",
       "    </tr>\n",
       "  </thead>\n",
       "  <tbody>\n",
       "    <tr>\n",
       "      <th>0</th>\n",
       "      <td>2017-10-01</td>\n",
       "      <td>132573</td>\n",
       "      <td>0.42</td>\n",
       "      <td>0.6640</td>\n",
       "      <td>0.37</td>\n",
       "      <td>0.19</td>\n",
       "      <td>0.20</td>\n",
       "    </tr>\n",
       "    <tr>\n",
       "      <th>1</th>\n",
       "      <td>2017-09-01</td>\n",
       "      <td>140939</td>\n",
       "      <td>0.16</td>\n",
       "      <td>0.6470</td>\n",
       "      <td>-0.02</td>\n",
       "      <td>0.14</td>\n",
       "      <td>0.47</td>\n",
       "    </tr>\n",
       "    <tr>\n",
       "      <th>2</th>\n",
       "      <td>2017-08-01</td>\n",
       "      <td>124636</td>\n",
       "      <td>0.19</td>\n",
       "      <td>0.7542</td>\n",
       "      <td>-0.03</td>\n",
       "      <td>0.40</td>\n",
       "      <td>0.10</td>\n",
       "    </tr>\n",
       "    <tr>\n",
       "      <th>3</th>\n",
       "      <td>2017-07-01</td>\n",
       "      <td>141766</td>\n",
       "      <td>0.24</td>\n",
       "      <td>0.8196</td>\n",
       "      <td>0.17</td>\n",
       "      <td>0.22</td>\n",
       "      <td>-0.72</td>\n",
       "    </tr>\n",
       "    <tr>\n",
       "      <th>4</th>\n",
       "      <td>2017-06-01</td>\n",
       "      <td>137397</td>\n",
       "      <td>-0.23</td>\n",
       "      <td>0.8053</td>\n",
       "      <td>-0.30</td>\n",
       "      <td>1.36</td>\n",
       "      <td>-0.67</td>\n",
       "    </tr>\n",
       "  </tbody>\n",
       "</table>\n",
       "</div>"
      ],
      "text/plain": [
       "        Data  Vendas  IPCA   SELIC  INPC  INCC  IGPM\n",
       "0 2017-10-01  132573  0.42  0.6640  0.37  0.19  0.20\n",
       "1 2017-09-01  140939  0.16  0.6470 -0.02  0.14  0.47\n",
       "2 2017-08-01  124636  0.19  0.7542 -0.03  0.40  0.10\n",
       "3 2017-07-01  141766  0.24  0.8196  0.17  0.22 -0.72\n",
       "4 2017-06-01  137397 -0.23  0.8053 -0.30  1.36 -0.67"
      ]
     },
     "execution_count": 33,
     "metadata": {},
     "output_type": "execute_result"
    }
   ],
   "source": [
    "df = pd.read_excel('Faturamento+indices.xlsx')\n",
    "df.head()"
   ]
  },
  {
   "cell_type": "markdown",
   "metadata": {},
   "source": [
    "### Transforming the \"Data\" column to Index"
   ]
  },
  {
   "cell_type": "code",
   "execution_count": 34,
   "metadata": {
    "collapsed": true
   },
   "outputs": [],
   "source": [
    "df.index = df['Data']\n",
    "df.drop('Data', axis=1 , inplace=True)"
   ]
  },
  {
   "cell_type": "code",
   "execution_count": 35,
   "metadata": {
    "collapsed": false
   },
   "outputs": [
    {
     "data": {
      "text/html": [
       "<div>\n",
       "<table border=\"1\" class=\"dataframe\">\n",
       "  <thead>\n",
       "    <tr style=\"text-align: right;\">\n",
       "      <th></th>\n",
       "      <th>Vendas</th>\n",
       "      <th>IPCA</th>\n",
       "      <th>SELIC</th>\n",
       "      <th>INPC</th>\n",
       "      <th>INCC</th>\n",
       "      <th>IGPM</th>\n",
       "    </tr>\n",
       "    <tr>\n",
       "      <th>Data</th>\n",
       "      <th></th>\n",
       "      <th></th>\n",
       "      <th></th>\n",
       "      <th></th>\n",
       "      <th></th>\n",
       "      <th></th>\n",
       "    </tr>\n",
       "  </thead>\n",
       "  <tbody>\n",
       "    <tr>\n",
       "      <th>2017-10-01</th>\n",
       "      <td>132573</td>\n",
       "      <td>0.42</td>\n",
       "      <td>0.6640</td>\n",
       "      <td>0.37</td>\n",
       "      <td>0.19</td>\n",
       "      <td>0.20</td>\n",
       "    </tr>\n",
       "    <tr>\n",
       "      <th>2017-09-01</th>\n",
       "      <td>140939</td>\n",
       "      <td>0.16</td>\n",
       "      <td>0.6470</td>\n",
       "      <td>-0.02</td>\n",
       "      <td>0.14</td>\n",
       "      <td>0.47</td>\n",
       "    </tr>\n",
       "    <tr>\n",
       "      <th>2017-08-01</th>\n",
       "      <td>124636</td>\n",
       "      <td>0.19</td>\n",
       "      <td>0.7542</td>\n",
       "      <td>-0.03</td>\n",
       "      <td>0.40</td>\n",
       "      <td>0.10</td>\n",
       "    </tr>\n",
       "    <tr>\n",
       "      <th>2017-07-01</th>\n",
       "      <td>141766</td>\n",
       "      <td>0.24</td>\n",
       "      <td>0.8196</td>\n",
       "      <td>0.17</td>\n",
       "      <td>0.22</td>\n",
       "      <td>-0.72</td>\n",
       "    </tr>\n",
       "    <tr>\n",
       "      <th>2017-06-01</th>\n",
       "      <td>137397</td>\n",
       "      <td>-0.23</td>\n",
       "      <td>0.8053</td>\n",
       "      <td>-0.30</td>\n",
       "      <td>1.36</td>\n",
       "      <td>-0.67</td>\n",
       "    </tr>\n",
       "  </tbody>\n",
       "</table>\n",
       "</div>"
      ],
      "text/plain": [
       "            Vendas  IPCA   SELIC  INPC  INCC  IGPM\n",
       "Data                                              \n",
       "2017-10-01  132573  0.42  0.6640  0.37  0.19  0.20\n",
       "2017-09-01  140939  0.16  0.6470 -0.02  0.14  0.47\n",
       "2017-08-01  124636  0.19  0.7542 -0.03  0.40  0.10\n",
       "2017-07-01  141766  0.24  0.8196  0.17  0.22 -0.72\n",
       "2017-06-01  137397 -0.23  0.8053 -0.30  1.36 -0.67"
      ]
     },
     "execution_count": 35,
     "metadata": {},
     "output_type": "execute_result"
    }
   ],
   "source": [
    "df.head()"
   ]
  },
  {
   "cell_type": "code",
   "execution_count": 36,
   "metadata": {
    "collapsed": false
   },
   "outputs": [
    {
     "data": {
      "text/plain": [
       "<function matplotlib.pyplot.show>"
      ]
     },
     "execution_count": 36,
     "metadata": {},
     "output_type": "execute_result"
    },
    {
     "data": {
      "image/png": "[encoded data removed]",
      "text/plain": [
       "<matplotlib.figure.Figure at 0xba427edd68>"
      ]
     },
     "metadata": {},
     "output_type": "display_data"
    }
   ],
   "source": [
    "t = df.index.values\n",
    "x = df.iloc[:,0]\n",
    "pl.plot(x)\n",
    "pl.show"
   ]
  },
  {
   "cell_type": "markdown",
   "metadata": {},
   "source": [
    "### Creating the Output column (dependent column) for tranning data set, wich will be the \"Vendas\" shiftted by 1. It means the predicted sales to a month will be the sales of next month.\n"
   ]
  },
  {
   "cell_type": "code",
   "execution_count": 37,
   "metadata": {
    "collapsed": false
   },
   "outputs": [
    {
     "data": {
      "text/html": [
       "<div>\n",
       "<table border=\"1\" class=\"dataframe\">\n",
       "  <thead>\n",
       "    <tr style=\"text-align: right;\">\n",
       "      <th></th>\n",
       "      <th>Vendas</th>\n",
       "      <th>IPCA</th>\n",
       "      <th>SELIC</th>\n",
       "      <th>INPC</th>\n",
       "      <th>INCC</th>\n",
       "      <th>IGPM</th>\n",
       "      <th>out</th>\n",
       "    </tr>\n",
       "    <tr>\n",
       "      <th>Data</th>\n",
       "      <th></th>\n",
       "      <th></th>\n",
       "      <th></th>\n",
       "      <th></th>\n",
       "      <th></th>\n",
       "      <th></th>\n",
       "      <th></th>\n",
       "    </tr>\n",
       "  </thead>\n",
       "  <tbody>\n",
       "    <tr>\n",
       "      <th>2017-10-01</th>\n",
       "      <td>132573</td>\n",
       "      <td>0.42</td>\n",
       "      <td>0.6640</td>\n",
       "      <td>0.37</td>\n",
       "      <td>0.19</td>\n",
       "      <td>0.20</td>\n",
       "      <td>NaN</td>\n",
       "    </tr>\n",
       "    <tr>\n",
       "      <th>2017-09-01</th>\n",
       "      <td>140939</td>\n",
       "      <td>0.16</td>\n",
       "      <td>0.6470</td>\n",
       "      <td>-0.02</td>\n",
       "      <td>0.14</td>\n",
       "      <td>0.47</td>\n",
       "      <td>132573.0</td>\n",
       "    </tr>\n",
       "    <tr>\n",
       "      <th>2017-08-01</th>\n",
       "      <td>124636</td>\n",
       "      <td>0.19</td>\n",
       "      <td>0.7542</td>\n",
       "      <td>-0.03</td>\n",
       "      <td>0.40</td>\n",
       "      <td>0.10</td>\n",
       "      <td>140939.0</td>\n",
       "    </tr>\n",
       "    <tr>\n",
       "      <th>2017-07-01</th>\n",
       "      <td>141766</td>\n",
       "      <td>0.24</td>\n",
       "      <td>0.8196</td>\n",
       "      <td>0.17</td>\n",
       "      <td>0.22</td>\n",
       "      <td>-0.72</td>\n",
       "      <td>124636.0</td>\n",
       "    </tr>\n",
       "    <tr>\n",
       "      <th>2017-06-01</th>\n",
       "      <td>137397</td>\n",
       "      <td>-0.23</td>\n",
       "      <td>0.8053</td>\n",
       "      <td>-0.30</td>\n",
       "      <td>1.36</td>\n",
       "      <td>-0.67</td>\n",
       "      <td>141766.0</td>\n",
       "    </tr>\n",
       "  </tbody>\n",
       "</table>\n",
       "</div>"
      ],
      "text/plain": [
       "            Vendas  IPCA   SELIC  INPC  INCC  IGPM       out\n",
       "Data                                                        \n",
       "2017-10-01  132573  0.42  0.6640  0.37  0.19  0.20       NaN\n",
       "2017-09-01  140939  0.16  0.6470 -0.02  0.14  0.47  132573.0\n",
       "2017-08-01  124636  0.19  0.7542 -0.03  0.40  0.10  140939.0\n",
       "2017-07-01  141766  0.24  0.8196  0.17  0.22 -0.72  124636.0\n",
       "2017-06-01  137397 -0.23  0.8053 -0.30  1.36 -0.67  141766.0"
      ]
     },
     "execution_count": 37,
     "metadata": {},
     "output_type": "execute_result"
    }
   ],
   "source": [
    "df['out'] = df['Vendas'].shift(1)\n",
    "df.head()"
   ]
  },
  {
   "cell_type": "code",
   "execution_count": 38,
   "metadata": {
    "collapsed": false
   },
   "outputs": [
    {
     "data": {
      "text/html": [
       "<div>\n",
       "<table border=\"1\" class=\"dataframe\">\n",
       "  <thead>\n",
       "    <tr style=\"text-align: right;\">\n",
       "      <th></th>\n",
       "      <th>Vendas</th>\n",
       "      <th>IPCA</th>\n",
       "      <th>SELIC</th>\n",
       "      <th>INPC</th>\n",
       "      <th>INCC</th>\n",
       "      <th>IGPM</th>\n",
       "      <th>out</th>\n",
       "    </tr>\n",
       "    <tr>\n",
       "      <th>Data</th>\n",
       "      <th></th>\n",
       "      <th></th>\n",
       "      <th></th>\n",
       "      <th></th>\n",
       "      <th></th>\n",
       "      <th></th>\n",
       "      <th></th>\n",
       "    </tr>\n",
       "  </thead>\n",
       "  <tbody>\n",
       "    <tr>\n",
       "      <th>2017-09-01</th>\n",
       "      <td>140939</td>\n",
       "      <td>0.16</td>\n",
       "      <td>0.6470</td>\n",
       "      <td>-0.02</td>\n",
       "      <td>0.14</td>\n",
       "      <td>0.47</td>\n",
       "      <td>132573.0</td>\n",
       "    </tr>\n",
       "    <tr>\n",
       "      <th>2017-08-01</th>\n",
       "      <td>124636</td>\n",
       "      <td>0.19</td>\n",
       "      <td>0.7542</td>\n",
       "      <td>-0.03</td>\n",
       "      <td>0.40</td>\n",
       "      <td>0.10</td>\n",
       "      <td>140939.0</td>\n",
       "    </tr>\n",
       "    <tr>\n",
       "      <th>2017-07-01</th>\n",
       "      <td>141766</td>\n",
       "      <td>0.24</td>\n",
       "      <td>0.8196</td>\n",
       "      <td>0.17</td>\n",
       "      <td>0.22</td>\n",
       "      <td>-0.72</td>\n",
       "      <td>124636.0</td>\n",
       "    </tr>\n",
       "    <tr>\n",
       "      <th>2017-06-01</th>\n",
       "      <td>137397</td>\n",
       "      <td>-0.23</td>\n",
       "      <td>0.8053</td>\n",
       "      <td>-0.30</td>\n",
       "      <td>1.36</td>\n",
       "      <td>-0.67</td>\n",
       "      <td>141766.0</td>\n",
       "    </tr>\n",
       "    <tr>\n",
       "      <th>2017-05-01</th>\n",
       "      <td>130927</td>\n",
       "      <td>0.31</td>\n",
       "      <td>0.9096</td>\n",
       "      <td>0.36</td>\n",
       "      <td>0.13</td>\n",
       "      <td>-0.93</td>\n",
       "      <td>137397.0</td>\n",
       "    </tr>\n",
       "  </tbody>\n",
       "</table>\n",
       "</div>"
      ],
      "text/plain": [
       "            Vendas  IPCA   SELIC  INPC  INCC  IGPM       out\n",
       "Data                                                        \n",
       "2017-09-01  140939  0.16  0.6470 -0.02  0.14  0.47  132573.0\n",
       "2017-08-01  124636  0.19  0.7542 -0.03  0.40  0.10  140939.0\n",
       "2017-07-01  141766  0.24  0.8196  0.17  0.22 -0.72  124636.0\n",
       "2017-06-01  137397 -0.23  0.8053 -0.30  1.36 -0.67  141766.0\n",
       "2017-05-01  130927  0.31  0.9096  0.36  0.13 -0.93  137397.0"
      ]
     },
     "execution_count": 38,
     "metadata": {},
     "output_type": "execute_result"
    }
   ],
   "source": [
    "df1=df.copy()\n",
    "df1.dropna(axis=0 , inplace=True)\n",
    "df1.head()"
   ]
  },
  {
   "cell_type": "markdown",
   "metadata": {},
   "source": [
    "### Normalizing the Data"
   ]
  },
  {
   "cell_type": "code",
   "execution_count": 39,
   "metadata": {
    "collapsed": false
   },
   "outputs": [
    {
     "data": {
      "text/html": [
       "<div>\n",
       "<table border=\"1\" class=\"dataframe\">\n",
       "  <thead>\n",
       "    <tr style=\"text-align: right;\">\n",
       "      <th></th>\n",
       "      <th>Vendas</th>\n",
       "      <th>IPCA</th>\n",
       "      <th>SELIC</th>\n",
       "      <th>INPC</th>\n",
       "      <th>INCC</th>\n",
       "      <th>IGPM</th>\n",
       "      <th>out</th>\n",
       "    </tr>\n",
       "    <tr>\n",
       "      <th>Data</th>\n",
       "      <th></th>\n",
       "      <th></th>\n",
       "      <th></th>\n",
       "      <th></th>\n",
       "      <th></th>\n",
       "      <th></th>\n",
       "      <th></th>\n",
       "    </tr>\n",
       "  </thead>\n",
       "  <tbody>\n",
       "    <tr>\n",
       "      <th>2017-09-01</th>\n",
       "      <td>-0.262614</td>\n",
       "      <td>-0.250631</td>\n",
       "      <td>-0.678833</td>\n",
       "      <td>-0.313236</td>\n",
       "      <td>-0.187848</td>\n",
       "      <td>0.017740</td>\n",
       "      <td>-0.349597</td>\n",
       "    </tr>\n",
       "    <tr>\n",
       "      <th>2017-08-01</th>\n",
       "      <td>-0.465090</td>\n",
       "      <td>-0.231276</td>\n",
       "      <td>-0.460459</td>\n",
       "      <td>-0.318761</td>\n",
       "      <td>-0.054515</td>\n",
       "      <td>-0.106006</td>\n",
       "      <td>-0.245694</td>\n",
       "    </tr>\n",
       "    <tr>\n",
       "      <th>2017-07-01</th>\n",
       "      <td>-0.252343</td>\n",
       "      <td>-0.199018</td>\n",
       "      <td>-0.327234</td>\n",
       "      <td>-0.208263</td>\n",
       "      <td>-0.146823</td>\n",
       "      <td>-0.380253</td>\n",
       "      <td>-0.448171</td>\n",
       "    </tr>\n",
       "    <tr>\n",
       "      <th>2017-06-01</th>\n",
       "      <td>-0.306604</td>\n",
       "      <td>-0.502244</td>\n",
       "      <td>-0.356364</td>\n",
       "      <td>-0.467932</td>\n",
       "      <td>0.437793</td>\n",
       "      <td>-0.363531</td>\n",
       "      <td>-0.235423</td>\n",
       "    </tr>\n",
       "    <tr>\n",
       "      <th>2017-05-01</th>\n",
       "      <td>-0.386959</td>\n",
       "      <td>-0.153857</td>\n",
       "      <td>-0.143897</td>\n",
       "      <td>-0.103291</td>\n",
       "      <td>-0.192977</td>\n",
       "      <td>-0.450487</td>\n",
       "      <td>-0.289685</td>\n",
       "    </tr>\n",
       "  </tbody>\n",
       "</table>\n",
       "</div>"
      ],
      "text/plain": [
       "              Vendas      IPCA     SELIC      INPC      INCC      IGPM  \\\n",
       "Data                                                                     \n",
       "2017-09-01 -0.262614 -0.250631 -0.678833 -0.313236 -0.187848  0.017740   \n",
       "2017-08-01 -0.465090 -0.231276 -0.460459 -0.318761 -0.054515 -0.106006   \n",
       "2017-07-01 -0.252343 -0.199018 -0.327234 -0.208263 -0.146823 -0.380253   \n",
       "2017-06-01 -0.306604 -0.502244 -0.356364 -0.467932  0.437793 -0.363531   \n",
       "2017-05-01 -0.386959 -0.153857 -0.143897 -0.103291 -0.192977 -0.450487   \n",
       "\n",
       "                 out  \n",
       "Data                  \n",
       "2017-09-01 -0.349597  \n",
       "2017-08-01 -0.245694  \n",
       "2017-07-01 -0.448171  \n",
       "2017-06-01 -0.235423  \n",
       "2017-05-01 -0.289685  "
      ]
     },
     "execution_count": 39,
     "metadata": {},
     "output_type": "execute_result"
    }
   ],
   "source": [
    "df2 = (df1-df1.mean())/(df1.max() - df1.min())\n",
    "df2.head()\n"
   ]
  },
  {
   "cell_type": "markdown",
   "metadata": {},
   "source": [
    "## Linear Regression"
   ]
  },
  {
   "cell_type": "markdown",
   "metadata": {},
   "source": [
    "### Multi Variable (sales shiftted by 1 for output)\n",
    "### Spliting the data into train and test\n",
    "### Using seed to reproduce the variable selection\n",
    "### MSE as a metric"
   ]
  },
  {
   "cell_type": "code",
   "execution_count": 40,
   "metadata": {
    "collapsed": true
   },
   "outputs": [],
   "source": [
    "t = df2.index.values\n",
    "x = df2.iloc[:,0:6]\n",
    "y = df2.iloc[:,6]"
   ]
  },
  {
   "cell_type": "code",
   "execution_count": 41,
   "metadata": {
    "collapsed": false
   },
   "outputs": [],
   "source": [
    "seed=7\n",
    "from sklearn import model_selection\n",
    "x_train , x_test , y_train , y_test = model_selection.train_test_split(x,y,test_size=0.2, random_state=seed)"
   ]
  },
  {
   "cell_type": "code",
   "execution_count": 42,
   "metadata": {
    "collapsed": true
   },
   "outputs": [],
   "source": [
    "from sklearn.linear_model import LinearRegression\n",
    "import numpy as np"
   ]
  },
  {
   "cell_type": "code",
   "execution_count": 43,
   "metadata": {
    "collapsed": true
   },
   "outputs": [],
   "source": [
    "def rmse(y_real,y_pred):\n",
    "    return np.sqrt(sum([ (m - n)**2 for m, n in zip(y_real,y_pred[:-1])]))/len(y_real)"
   ]
  },
  {
   "cell_type": "code",
   "execution_count": 44,
   "metadata": {
    "collapsed": false
   },
   "outputs": [
    {
     "data": {
      "text/plain": [
       "LinearRegression(copy_X=True, fit_intercept=True, n_jobs=1, normalize=False)"
      ]
     },
     "execution_count": 44,
     "metadata": {},
     "output_type": "execute_result"
    }
   ],
   "source": [
    "regr = LinearRegression()\n",
    "regr.fit(x_train,y_train)"
   ]
  },
  {
   "cell_type": "code",
   "execution_count": 45,
   "metadata": {
    "collapsed": false
   },
   "outputs": [
    {
     "name": "stdout",
     "output_type": "stream",
     "text": [
      "Mean train squared error: 0.02462\n",
      "Mean test squared error: 0.07105\n"
     ]
    }
   ],
   "source": [
    "mean_squared_error_train = rmse(y_train, regr.predict(x_train))\n",
    "mean_squared_error_test = rmse(y_test, regr.predict(x_test))\n",
    "print('Mean train squared error: %.5f' %  mean_squared_error_train)\n",
    "print('Mean test squared error: %.5f' %  mean_squared_error_test)"
   ]
  },
  {
   "cell_type": "code",
   "execution_count": 46,
   "metadata": {
    "collapsed": false
   },
   "outputs": [
    {
     "data": {
      "image/png": "[encoded data removed]",
      "text/plain": [
       "<matplotlib.figure.Figure at 0xba4284f978>"
      ]
     },
     "metadata": {},
     "output_type": "display_data"
    }
   ],
   "source": [
    "y_pred = regr.predict(x)\n",
    "pl.plot(t,y,'r-')\n",
    "pl.plot(t,y_pred)\n",
    "pl.show()"
   ]
  },
  {
   "cell_type": "markdown",
   "metadata": {},
   "source": [
    "### Creating the new input data to predict"
   ]
  },
  {
   "cell_type": "code",
   "execution_count": 49,
   "metadata": {
    "collapsed": false
   },
   "outputs": [
    {
     "data": {
      "text/plain": [
       "Vendas    132573.000\n",
       "IPCA           0.420\n",
       "SELIC          0.664\n",
       "INPC           0.370\n",
       "INCC           0.190\n",
       "IGPM           0.200\n",
       "Name: 2017-10-01 00:00:00, dtype: float64"
      ]
     },
     "execution_count": 49,
     "metadata": {},
     "output_type": "execute_result"
    }
   ],
   "source": [
    "p= df.iloc[0,0:6]\n",
    "p"
   ]
  },
  {
   "cell_type": "code",
   "execution_count": 51,
   "metadata": {
    "collapsed": false
   },
   "outputs": [
    {
     "data": {
      "text/plain": [
       "array([[-0.36651594, -0.0828892 , -0.64420275, -0.09776603, -0.16220736,\n",
       "        -0.07256071]])"
      ]
     },
     "execution_count": 51,
     "metadata": {},
     "output_type": "execute_result"
    }
   ],
   "source": [
    "p= df.iloc[0,0:6]\n",
    "p= (p-df1.iloc[:,0:6].mean())/(df1.iloc[:,0:6].max() - df1.iloc[:,0:6].min())\n",
    "p= p.reshape(1,-1)\n",
    "p"
   ]
  },
  {
   "cell_type": "code",
   "execution_count": 52,
   "metadata": {
    "collapsed": false
   },
   "outputs": [],
   "source": [
    "prev = regr.predict(p)"
   ]
  },
  {
   "cell_type": "markdown",
   "metadata": {},
   "source": [
    "### Result (prediction for next month)"
   ]
  },
  {
   "cell_type": "code",
   "execution_count": 53,
   "metadata": {
    "collapsed": false
   },
   "outputs": [
    {
     "data": {
      "text/plain": [
       "array([ 132497.98000734])"
      ]
     },
     "execution_count": 53,
     "metadata": {},
     "output_type": "execute_result"
    }
   ],
   "source": [
    "prev = (prev*(df1[\"out\"].max() - df1[\"out\"].min()))+df1[\"out\"].mean()\n",
    "prev"
   ]
  },
  {
   "cell_type": "code",
   "execution_count": null,
   "metadata": {
    "collapsed": true
   },
   "outputs": [],
   "source": []
  }
 ],
 "metadata": {
  "anaconda-cloud": {},
  "kernelspec": {
   "display_name": "Python [default]",
   "language": "python",
   "name": "python3"
  },
  "language_info": {
   "codemirror_mode": {
    "name": "ipython",
    "version": 3
   },
   "file_extension": ".py",
   "mimetype": "text/x-python",
   "name": "python",
   "nbconvert_exporter": "python",
   "pygments_lexer": "ipython3",
   "version": "3.5.2"
  }
 },
 "nbformat": 4,
 "nbformat_minor": 1
}
